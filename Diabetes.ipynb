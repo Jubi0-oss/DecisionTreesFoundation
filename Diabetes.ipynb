{
 "cells": [
  {
   "cell_type": "code",
   "execution_count": 1,
   "id": "34c75763",
   "metadata": {},
   "outputs": [],
   "source": [
    "import pandas as pd\n",
    "import numpy as np\n",
    "import seaborn as sns\n",
    "import matplotlib.pyplot as plt\n",
    "import plotly.express as px\n",
    "import os\n",
    "import pprint\n",
    "import math\n",
    "import warnings\n",
    "warnings.filterwarnings(\"ignore\")\n",
    "\n"
   ]
  },
  {
   "cell_type": "code",
   "execution_count": 2,
   "id": "4d489b3a",
   "metadata": {},
   "outputs": [
    {
     "data": {
      "text/html": [
       "<div>\n",
       "<style scoped>\n",
       "    .dataframe tbody tr th:only-of-type {\n",
       "        vertical-align: middle;\n",
       "    }\n",
       "\n",
       "    .dataframe tbody tr th {\n",
       "        vertical-align: top;\n",
       "    }\n",
       "\n",
       "    .dataframe thead th {\n",
       "        text-align: right;\n",
       "    }\n",
       "</style>\n",
       "<table border=\"1\" class=\"dataframe\">\n",
       "  <thead>\n",
       "    <tr style=\"text-align: right;\">\n",
       "      <th></th>\n",
       "      <th>Pregnancies</th>\n",
       "      <th>Glucose</th>\n",
       "      <th>BloodPressure</th>\n",
       "      <th>SkinThickness</th>\n",
       "      <th>Insulin</th>\n",
       "      <th>BMI</th>\n",
       "      <th>DiabetesPedigreeFunction</th>\n",
       "      <th>Age</th>\n",
       "      <th>Outcome</th>\n",
       "    </tr>\n",
       "  </thead>\n",
       "  <tbody>\n",
       "    <tr>\n",
       "      <th>0</th>\n",
       "      <td>6</td>\n",
       "      <td>148</td>\n",
       "      <td>72</td>\n",
       "      <td>35</td>\n",
       "      <td>0</td>\n",
       "      <td>33.6</td>\n",
       "      <td>0.627</td>\n",
       "      <td>50</td>\n",
       "      <td>1</td>\n",
       "    </tr>\n",
       "    <tr>\n",
       "      <th>1</th>\n",
       "      <td>1</td>\n",
       "      <td>85</td>\n",
       "      <td>66</td>\n",
       "      <td>29</td>\n",
       "      <td>0</td>\n",
       "      <td>26.6</td>\n",
       "      <td>0.351</td>\n",
       "      <td>31</td>\n",
       "      <td>0</td>\n",
       "    </tr>\n",
       "    <tr>\n",
       "      <th>2</th>\n",
       "      <td>8</td>\n",
       "      <td>183</td>\n",
       "      <td>64</td>\n",
       "      <td>0</td>\n",
       "      <td>0</td>\n",
       "      <td>23.3</td>\n",
       "      <td>0.672</td>\n",
       "      <td>32</td>\n",
       "      <td>1</td>\n",
       "    </tr>\n",
       "    <tr>\n",
       "      <th>3</th>\n",
       "      <td>1</td>\n",
       "      <td>89</td>\n",
       "      <td>66</td>\n",
       "      <td>23</td>\n",
       "      <td>94</td>\n",
       "      <td>28.1</td>\n",
       "      <td>0.167</td>\n",
       "      <td>21</td>\n",
       "      <td>0</td>\n",
       "    </tr>\n",
       "    <tr>\n",
       "      <th>4</th>\n",
       "      <td>0</td>\n",
       "      <td>137</td>\n",
       "      <td>40</td>\n",
       "      <td>35</td>\n",
       "      <td>168</td>\n",
       "      <td>43.1</td>\n",
       "      <td>2.288</td>\n",
       "      <td>33</td>\n",
       "      <td>1</td>\n",
       "    </tr>\n",
       "  </tbody>\n",
       "</table>\n",
       "</div>"
      ],
      "text/plain": [
       "   Pregnancies  Glucose  BloodPressure  SkinThickness  Insulin   BMI  \\\n",
       "0            6      148             72             35        0  33.6   \n",
       "1            1       85             66             29        0  26.6   \n",
       "2            8      183             64              0        0  23.3   \n",
       "3            1       89             66             23       94  28.1   \n",
       "4            0      137             40             35      168  43.1   \n",
       "\n",
       "   DiabetesPedigreeFunction  Age  Outcome  \n",
       "0                     0.627   50        1  \n",
       "1                     0.351   31        0  \n",
       "2                     0.672   32        1  \n",
       "3                     0.167   21        0  \n",
       "4                     2.288   33        1  "
      ]
     },
     "execution_count": 2,
     "metadata": {},
     "output_type": "execute_result"
    }
   ],
   "source": [
    "df = pd.read_csv(\"diabetes_dataset.csv\")\n",
    "df.head()"
   ]
  },
  {
   "cell_type": "code",
   "execution_count": 3,
   "id": "f3163b7b",
   "metadata": {},
   "outputs": [
    {
     "name": "stdout",
     "output_type": "stream",
     "text": [
      "Shape: (768, 9)\n",
      "----------------------------------------\n",
      "Columns:  Index(['Pregnancies', 'Glucose', 'BloodPressure', 'SkinThickness', 'Insulin',\n",
      "       'BMI', 'DiabetesPedigreeFunction', 'Age', 'Outcome'],\n",
      "      dtype='object')\n",
      "----------------------------------------\n",
      "<class 'pandas.core.frame.DataFrame'>\n",
      "RangeIndex: 768 entries, 0 to 767\n",
      "Data columns (total 9 columns):\n",
      " #   Column                    Non-Null Count  Dtype  \n",
      "---  ------                    --------------  -----  \n",
      " 0   Pregnancies               768 non-null    int64  \n",
      " 1   Glucose                   768 non-null    int64  \n",
      " 2   BloodPressure             768 non-null    int64  \n",
      " 3   SkinThickness             768 non-null    int64  \n",
      " 4   Insulin                   768 non-null    int64  \n",
      " 5   BMI                       768 non-null    float64\n",
      " 6   DiabetesPedigreeFunction  768 non-null    float64\n",
      " 7   Age                       768 non-null    int64  \n",
      " 8   Outcome                   768 non-null    int64  \n",
      "dtypes: float64(2), int64(7)\n",
      "memory usage: 54.1 KB\n",
      "None\n",
      "----------------------------------------\n",
      "Null value check\n",
      ": Pregnancies                 0\n",
      "Glucose                     0\n",
      "BloodPressure               0\n",
      "SkinThickness               0\n",
      "Insulin                     0\n",
      "BMI                         0\n",
      "DiabetesPedigreeFunction    0\n",
      "Age                         0\n",
      "Outcome                     0\n",
      "dtype: int64\n",
      "----------------------------------------\n"
     ]
    }
   ],
   "source": [
    "print(\"Shape:\",df.shape)\n",
    "print(\"-\"*40)\n",
    "print(\"Columns: \", df.columns)\n",
    "print(\"-\"*40)\n",
    "print(df.info())\n",
    "print(\"-\"*40)\n",
    "print(\"Null value check\\n:\", df.isnull().sum())\n",
    "print(\"-\"*40)\n"
   ]
  },
  {
   "cell_type": "code",
   "execution_count": 4,
   "id": "0dad76be",
   "metadata": {},
   "outputs": [
    {
     "name": "stdout",
     "output_type": "stream",
     "text": [
      "Descriptive statistics:\n",
      "        Pregnancies     Glucose  BloodPressure  SkinThickness     Insulin  \\\n",
      "count   768.000000  768.000000     768.000000     768.000000  768.000000   \n",
      "mean      3.845052  120.894531      69.105469      20.536458   79.799479   \n",
      "std       3.369578   31.972618      19.355807      15.952218  115.244002   \n",
      "min       0.000000    0.000000       0.000000       0.000000    0.000000   \n",
      "25%       1.000000   99.000000      62.000000       0.000000    0.000000   \n",
      "50%       3.000000  117.000000      72.000000      23.000000   30.500000   \n",
      "75%       6.000000  140.250000      80.000000      32.000000  127.250000   \n",
      "max      17.000000  199.000000     122.000000      99.000000  846.000000   \n",
      "\n",
      "              BMI  DiabetesPedigreeFunction         Age     Outcome  \n",
      "count  768.000000                768.000000  768.000000  768.000000  \n",
      "mean    31.992578                  0.471876   33.240885    0.348958  \n",
      "std      7.884160                  0.331329   11.760232    0.476951  \n",
      "min      0.000000                  0.078000   21.000000    0.000000  \n",
      "25%     27.300000                  0.243750   24.000000    0.000000  \n",
      "50%     32.000000                  0.372500   29.000000    0.000000  \n",
      "75%     36.600000                  0.626250   41.000000    1.000000  \n",
      "max     67.100000                  2.420000   81.000000    1.000000  \n"
     ]
    }
   ],
   "source": [
    "print(\"Descriptive statistics:\\n\", df.describe())"
   ]
  },
  {
   "cell_type": "code",
   "execution_count": 5,
   "id": "e95551fd",
   "metadata": {},
   "outputs": [
    {
     "name": "stdout",
     "output_type": "stream",
     "text": [
      "Pregnancies                 111\n",
      "Glucose                       5\n",
      "BloodPressure                35\n",
      "SkinThickness               227\n",
      "Insulin                     374\n",
      "BMI                          11\n",
      "DiabetesPedigreeFunction      0\n",
      "Age                           0\n",
      "Outcome                     500\n",
      "dtype: int64\n"
     ]
    }
   ],
   "source": [
    "zero_counts = (df == 0).sum()\n",
    "print(zero_counts)\n"
   ]
  },
  {
   "cell_type": "code",
   "execution_count": 6,
   "id": "eec176ff",
   "metadata": {},
   "outputs": [
    {
     "name": "stdout",
     "output_type": "stream",
     "text": [
      "Pregnancies                 0\n",
      "Glucose                     0\n",
      "BloodPressure               0\n",
      "SkinThickness               0\n",
      "Insulin                     0\n",
      "BMI                         0\n",
      "DiabetesPedigreeFunction    0\n",
      "Age                         0\n",
      "Outcome                     0\n",
      "dtype: int64\n"
     ]
    }
   ],
   "source": [
    "cols_with_zero = ['Glucose','BloodPressure','SkinThickness','Insulin','BMI']\n",
    "\n",
    "# Replacing zeros with NaN\n",
    "df[cols_with_zero] = df[cols_with_zero].replace(0, np.nan)\n",
    "\n",
    "# Filling NaN with median\n",
    "df[cols_with_zero] = df[cols_with_zero].fillna(df[cols_with_zero].median())\n",
    "print(df.isnull().sum())\n"
   ]
  },
  {
   "cell_type": "markdown",
   "id": "19af6e5b",
   "metadata": {},
   "source": [
    "EDA"
   ]
  },
  {
   "cell_type": "code",
   "execution_count": 7,
   "id": "5854cd22",
   "metadata": {},
   "outputs": [
    {
     "data": {
      "text/plain": [
       "Index(['Pregnancies', 'Glucose', 'BloodPressure', 'SkinThickness', 'Insulin',\n",
       "       'BMI', 'DiabetesPedigreeFunction', 'Age', 'Outcome'],\n",
       "      dtype='object')"
      ]
     },
     "execution_count": 7,
     "metadata": {},
     "output_type": "execute_result"
    }
   ],
   "source": [
    "df.columns"
   ]
  },
  {
   "cell_type": "code",
   "execution_count": 8,
   "id": "76210df3",
   "metadata": {},
   "outputs": [
    {
     "name": "stdout",
     "output_type": "stream",
     "text": [
      "Unique values in each column:\n",
      "Pregnancies: 17\n",
      "Glucose: 135\n",
      "BloodPressure: 46\n",
      "SkinThickness: 50\n",
      "Insulin: 185\n",
      "BMI: 247\n",
      "DiabetesPedigreeFunction: 517\n",
      "Age: 52\n",
      "Outcome: 2\n"
     ]
    }
   ],
   "source": [
    "print(\"Unique values in each column:\")\n",
    "for col in df.columns:\n",
    "    print(f\"{col}: {df[col].nunique()}\")\n"
   ]
  },
  {
   "cell_type": "code",
   "execution_count": 9,
   "id": "c98a1b6d",
   "metadata": {},
   "outputs": [
    {
     "name": "stdout",
     "output_type": "stream",
     "text": [
      "Unique values in the output label\n",
      ":\n"
     ]
    },
    {
     "data": {
      "text/plain": [
       "array([1, 0])"
      ]
     },
     "execution_count": 9,
     "metadata": {},
     "output_type": "execute_result"
    }
   ],
   "source": [
    "print(\"Unique values in the output label\\n:\")\n",
    "df[\"Outcome\"].unique()\n"
   ]
  },
  {
   "cell_type": "code",
   "execution_count": 10,
   "id": "cd8eb1c1",
   "metadata": {},
   "outputs": [
    {
     "name": "stdout",
     "output_type": "stream",
     "text": [
      "Count of each outcome value:\n",
      "\n"
     ]
    },
    {
     "data": {
      "text/plain": [
       "Outcome\n",
       "0    500\n",
       "1    268\n",
       "Name: count, dtype: int64"
      ]
     },
     "execution_count": 10,
     "metadata": {},
     "output_type": "execute_result"
    }
   ],
   "source": [
    "\n",
    "print(\"Count of each outcome value:\\n\")\n",
    "df[\"Outcome\"].value_counts()\n",
    "\n",
    "# 0: Non Diabetic\n",
    "# 1: Diabetic"
   ]
  },
  {
   "cell_type": "code",
   "execution_count": 11,
   "id": "cdbfa7e0",
   "metadata": {},
   "outputs": [
    {
     "data": {
      "application/vnd.plotly.v1+json": {
       "config": {
        "plotlyServerURL": "https://plot.ly"
       },
       "data": [
        {
         "customdata": {
          "bdata": "AQABAAEAAQABAQABAAEBAQEBAAEAAAEBAQEBAAAAAAEAAAAAAAEBAQAAAAEAAQAAAQAAAAABAAABAAAAAAEAAAEAAQAAAAEAAQAAAAAAAQAAAAAAAQAAAAEAAAAAAQAAAAAAAQEAAAAAAAAAAAEBAQAAAQEBAAAAAQAAAAEBAAABAQEBAQAAAAAAAAAAAAABAAAAAAAAAAABAAEBAAAAAQAAAAABAQAAAAABAQAAAAEAAQABAAAAAAABAQEBAQAAAQEAAQABAQEAAAAAAAABAQABAAAAAQEBAQABAQEBAAAAAAABAAABAQAAAAEBAQEAAAABAQABAAAAAAAAAAABAQAAAAEAAQAAAQABAAABAQAAAAAAAQAAAAEAAAEBAAABAAAAAQEBAAABAAEAAQEAAQAAAQABAQAAAQABAAABAAEAAQEBAAABAAEAAAABAAAAAAEBAQAAAAAAAAAAAAEAAAAAAAEBAQABAQAAAQAAAQAAAQEAAAAAAQAAAQAAAAAAAAABAQEAAAEAAAEAAAEAAQEAAQABAAEAAQEAAAAAAQEAAQABAAAAAAEBAAEAAQAAAAAAAQAAAAABAAABAQEAAAEAAAEAAAABAAABAAAAAAAAAAAAAQAAAAAAAAABAAAAAQAAAAEBAAAAAAAAAAEAAAAAAQAAAAEAAAABAAAAAQAAAAABAQAAAAAAAAEAAAAAAAAAAAAAAAEAAAABAQEBAAABAQAAAAAAAAAAAAAAAAABAQAAAAAAAAABAAAAAAAAAAEAAQEAAAABAAEAAQABAAEAAAEAAAEAAAAAAQEAAQAAAAABAQABAAAAAQEAAAAAAAAAAAAAAQAAAAABAAABAAAAAQAAAAEBAQAAAAAAAAEAAAABAAEBAQEAAQEAAAAAAAAAAQEAAQAAAQABAAAAAAABAAEAAQABAQAAAAABAQAAAAEAAQEAAAEAAAEBAAABAAABAAAAAAAAAAEBAQAAAAAAAAEBAAABAAABAAEBAQAAAQEBAAEAAQABAAAAAAEA",
          "dtype": "i1",
          "shape": "768, 1"
         },
         "domain": {
          "x": [
           0,
           1
          ],
          "y": [
           0,
           1
          ]
         },
         "hovertemplate": "Outcome=%{customdata[0]}<extra></extra>",
         "labels": {
          "bdata": "AQABAAEAAQABAQABAAEBAQEBAAEAAAEBAQEBAAAAAAEAAAAAAAEBAQAAAAEAAQAAAQAAAAABAAABAAAAAAEAAAEAAQAAAAEAAQAAAAAAAQAAAAAAAQAAAAEAAAAAAQAAAAAAAQEAAAAAAAAAAAEBAQAAAQEBAAAAAQAAAAEBAAABAQEBAQAAAAAAAAAAAAABAAAAAAAAAAABAAEBAAAAAQAAAAABAQAAAAABAQAAAAEAAQABAAAAAAABAQEBAQAAAQEAAQABAQEAAAAAAAABAQABAAAAAQEBAQABAQEBAAAAAAABAAABAQAAAAEBAQEAAAABAQABAAAAAAAAAAABAQAAAAEAAQAAAQABAAABAQAAAAAAAQAAAAEAAAEBAAABAAAAAQEBAAABAAEAAQEAAQAAAQABAQAAAQABAAABAAEAAQEBAAABAAEAAAABAAAAAAEBAQAAAAAAAAAAAAEAAAAAAAEBAQABAQAAAQAAAQAAAQEAAAAAAQAAAQAAAAAAAAABAQEAAAEAAAEAAAEAAQEAAQABAAEAAQEAAAAAAQEAAQABAAAAAAEBAAEAAQAAAAAAAQAAAAABAAABAQEAAAEAAAEAAAABAAABAAAAAAAAAAAAAQAAAAAAAAABAAAAAQAAAAEBAAAAAAAAAAEAAAAAAQAAAAEAAAABAAAAAQAAAAABAQAAAAAAAAEAAAAAAAAAAAAAAAEAAAABAQEBAAABAQAAAAAAAAAAAAAAAAABAQAAAAAAAAABAAAAAAAAAAEAAQEAAAABAAEAAQABAAEAAAEAAAEAAAAAAQEAAQAAAAABAQABAAAAAQEAAAAAAAAAAAAAAQAAAAABAAABAAAAAQAAAAEBAQAAAAAAAAEAAAABAAEBAQEAAQEAAAAAAAAAAQEAAQAAAQABAAAAAAABAAEAAQABAQAAAAABAQAAAAEAAQEAAAEAAAEBAAABAAABAAAAAAAAAAEBAQAAAAAAAAEBAAABAAABAAEBAQAAAQEBAAEAAQABAAAAAAEA",
          "dtype": "i1"
         },
         "legendgroup": "",
         "marker": {
          "colors": [
           "#007500",
           "#5CFF5C",
           "#007500",
           "#5CFF5C",
           "#007500",
           "#5CFF5C",
           "#007500",
           "#5CFF5C",
           "#007500",
           "#007500",
           "#5CFF5C",
           "#007500",
           "#5CFF5C",
           "#007500",
           "#007500",
           "#007500",
           "#007500",
           "#007500",
           "#5CFF5C",
           "#007500",
           "#5CFF5C",
           "#5CFF5C",
           "#007500",
           "#007500",
           "#007500",
           "#007500",
           "#007500",
           "#5CFF5C",
           "#5CFF5C",
           "#5CFF5C",
           "#5CFF5C",
           "#007500",
           "#5CFF5C",
           "#5CFF5C",
           "#5CFF5C",
           "#5CFF5C",
           "#5CFF5C",
           "#007500",
           "#007500",
           "#007500",
           "#5CFF5C",
           "#5CFF5C",
           "#5CFF5C",
           "#007500",
           "#5CFF5C",
           "#007500",
           "#5CFF5C",
           "#5CFF5C",
           "#007500",
           "#5CFF5C",
           "#5CFF5C",
           "#5CFF5C",
           "#5CFF5C",
           "#007500",
           "#5CFF5C",
           "#5CFF5C",
           "#007500",
           "#5CFF5C",
           "#5CFF5C",
           "#5CFF5C",
           "#5CFF5C",
           "#007500",
           "#5CFF5C",
           "#5CFF5C",
           "#007500",
           "#5CFF5C",
           "#007500",
           "#5CFF5C",
           "#5CFF5C",
           "#5CFF5C",
           "#007500",
           "#5CFF5C",
           "#007500",
           "#5CFF5C",
           "#5CFF5C",
           "#5CFF5C",
           "#5CFF5C",
           "#5CFF5C",
           "#007500",
           "#5CFF5C",
           "#5CFF5C",
           "#5CFF5C",
           "#5CFF5C",
           "#5CFF5C",
           "#007500",
           "#5CFF5C",
           "#5CFF5C",
           "#5CFF5C",
           "#007500",
           "#5CFF5C",
           "#5CFF5C",
           "#5CFF5C",
           "#5CFF5C",
           "#007500",
           "#5CFF5C",
           "#5CFF5C",
           "#5CFF5C",
           "#5CFF5C",
           "#5CFF5C",
           "#007500",
           "#007500",
           "#5CFF5C",
           "#5CFF5C",
           "#5CFF5C",
           "#5CFF5C",
           "#5CFF5C",
           "#5CFF5C",
           "#5CFF5C",
           "#5CFF5C",
           "#007500",
           "#007500",
           "#007500",
           "#5CFF5C",
           "#5CFF5C",
           "#007500",
           "#007500",
           "#007500",
           "#5CFF5C",
           "#5CFF5C",
           "#5CFF5C",
           "#007500",
           "#5CFF5C",
           "#5CFF5C",
           "#5CFF5C",
           "#007500",
           "#007500",
           "#5CFF5C",
           "#5CFF5C",
           "#007500",
           "#007500",
           "#007500",
           "#007500",
           "#007500",
           "#5CFF5C",
           "#5CFF5C",
           "#5CFF5C",
           "#5CFF5C",
           "#5CFF5C",
           "#5CFF5C",
           "#5CFF5C",
           "#5CFF5C",
           "#5CFF5C",
           "#5CFF5C",
           "#007500",
           "#5CFF5C",
           "#5CFF5C",
           "#5CFF5C",
           "#5CFF5C",
           "#5CFF5C",
           "#5CFF5C",
           "#5CFF5C",
           "#5CFF5C",
           "#007500",
           "#5CFF5C",
           "#007500",
           "#007500",
           "#5CFF5C",
           "#5CFF5C",
           "#5CFF5C",
           "#007500",
           "#5CFF5C",
           "#5CFF5C",
           "#5CFF5C",
           "#5CFF5C",
           "#007500",
           "#007500",
           "#5CFF5C",
           "#5CFF5C",
           "#5CFF5C",
           "#5CFF5C",
           "#007500",
           "#007500",
           "#5CFF5C",
           "#5CFF5C",
           "#5CFF5C",
           "#007500",
           "#5CFF5C",
           "#007500",
           "#5CFF5C",
           "#007500",
           "#5CFF5C",
           "#5CFF5C",
           "#5CFF5C",
           "#5CFF5C",
           "#5CFF5C",
           "#007500",
           "#007500",
           "#007500",
           "#007500",
           "#007500",
           "#5CFF5C",
           "#5CFF5C",
           "#007500",
           "#007500",
           "#5CFF5C",
           "#007500",
           "#5CFF5C",
           "#007500",
           "#007500",
           "#007500",
           "#5CFF5C",
           "#5CFF5C",
           "#5CFF5C",
           "#5CFF5C",
           "#5CFF5C",
           "#5CFF5C",
           "#007500",
           "#007500",
           "#5CFF5C",
           "#007500",
           "#5CFF5C",
           "#5CFF5C",
           "#5CFF5C",
           "#007500",
           "#007500",
           "#007500",
           "#007500",
           "#5CFF5C",
           "#007500",
           "#007500",
           "#007500",
           "#007500",
           "#5CFF5C",
           "#5CFF5C",
           "#5CFF5C",
           "#5CFF5C",
           "#5CFF5C",
           "#007500",
           "#5CFF5C",
           "#5CFF5C",
           "#007500",
           "#007500",
           "#5CFF5C",
           "#5CFF5C",
           "#5CFF5C",
           "#007500",
           "#007500",
           "#007500",
           "#007500",
           "#5CFF5C",
           "#5CFF5C",
           "#5CFF5C",
           "#007500",
           "#007500",
           "#5CFF5C",
           "#007500",
           "#5CFF5C",
           "#5CFF5C",
           "#5CFF5C",
           "#5CFF5C",
           "#5CFF5C",
           "#5CFF5C",
           "#5CFF5C",
           "#5CFF5C",
           "#007500",
           "#007500",
           "#5CFF5C",
           "#5CFF5C",
           "#5CFF5C",
           "#007500",
           "#5CFF5C",
           "#007500",
           "#5CFF5C",
           "#5CFF5C",
           "#007500",
           "#5CFF5C",
           "#007500",
           "#5CFF5C",
           "#5CFF5C",
           "#007500",
           "#007500",
           "#5CFF5C",
           "#5CFF5C",
           "#5CFF5C",
           "#5CFF5C",
           "#5CFF5C",
           "#007500",
           "#5CFF5C",
           "#5CFF5C",
           "#5CFF5C",
           "#007500",
           "#5CFF5C",
           "#5CFF5C",
           "#007500",
           "#007500",
           "#5CFF5C",
           "#5CFF5C",
           "#007500",
           "#5CFF5C",
           "#5CFF5C",
           "#5CFF5C",
           "#007500",
           "#007500",
           "#007500",
           "#5CFF5C",
           "#5CFF5C",
           "#007500",
           "#5CFF5C",
           "#007500",
           "#5CFF5C",
           "#007500",
           "#007500",
           "#5CFF5C",
           "#007500",
           "#5CFF5C",
           "#5CFF5C",
           "#007500",
           "#5CFF5C",
           "#007500",
           "#007500",
           "#5CFF5C",
           "#5CFF5C",
           "#007500",
           "#5CFF5C",
           "#007500",
           "#5CFF5C",
           "#5CFF5C",
           "#007500",
           "#5CFF5C",
           "#007500",
           "#5CFF5C",
           "#007500",
           "#007500",
           "#007500",
           "#5CFF5C",
           "#5CFF5C",
           "#007500",
           "#5CFF5C",
           "#007500",
           "#5CFF5C",
           "#5CFF5C",
           "#5CFF5C",
           "#007500",
           "#5CFF5C",
           "#5CFF5C",
           "#5CFF5C",
           "#5CFF5C",
           "#007500",
           "#007500",
           "#007500",
           "#5CFF5C",
           "#5CFF5C",
           "#5CFF5C",
           "#5CFF5C",
           "#5CFF5C",
           "#5CFF5C",
           "#5CFF5C",
           "#5CFF5C",
           "#5CFF5C",
           "#007500",
           "#5CFF5C",
           "#5CFF5C",
           "#5CFF5C",
           "#5CFF5C",
           "#5CFF5C",
           "#007500",
           "#007500",
           "#007500",
           "#5CFF5C",
           "#007500",
           "#007500",
           "#5CFF5C",
           "#5CFF5C",
           "#007500",
           "#5CFF5C",
           "#5CFF5C",
           "#007500",
           "#5CFF5C",
           "#5CFF5C",
           "#007500",
           "#007500",
           "#5CFF5C",
           "#5CFF5C",
           "#5CFF5C",
           "#5CFF5C",
           "#007500",
           "#5CFF5C",
           "#5CFF5C",
           "#007500",
           "#5CFF5C",
           "#5CFF5C",
           "#5CFF5C",
           "#5CFF5C",
           "#5CFF5C",
           "#5CFF5C",
           "#5CFF5C",
           "#007500",
           "#007500",
           "#007500",
           "#5CFF5C",
           "#5CFF5C",
           "#007500",
           "#5CFF5C",
           "#5CFF5C",
           "#007500",
           "#5CFF5C",
           "#5CFF5C",
           "#007500",
           "#5CFF5C",
           "#007500",
           "#007500",
           "#5CFF5C",
           "#007500",
           "#5CFF5C",
           "#007500",
           "#5CFF5C",
           "#007500",
           "#5CFF5C",
           "#007500",
           "#007500",
           "#5CFF5C",
           "#5CFF5C",
           "#5CFF5C",
           "#5CFF5C",
           "#007500",
           "#007500",
           "#5CFF5C",
           "#007500",
           "#5CFF5C",
           "#007500",
           "#5CFF5C",
           "#5CFF5C",
           "#5CFF5C",
           "#5CFF5C",
           "#007500",
           "#007500",
           "#5CFF5C",
           "#007500",
           "#5CFF5C",
           "#007500",
           "#5CFF5C",
           "#5CFF5C",
           "#5CFF5C",
           "#5CFF5C",
           "#5CFF5C",
           "#007500",
           "#5CFF5C",
           "#5CFF5C",
           "#5CFF5C",
           "#5CFF5C",
           "#007500",
           "#5CFF5C",
           "#5CFF5C",
           "#007500",
           "#007500",
           "#007500",
           "#5CFF5C",
           "#5CFF5C",
           "#007500",
           "#5CFF5C",
           "#5CFF5C",
           "#007500",
           "#5CFF5C",
           "#5CFF5C",
           "#5CFF5C",
           "#007500",
           "#5CFF5C",
           "#5CFF5C",
           "#007500",
           "#5CFF5C",
           "#5CFF5C",
           "#5CFF5C",
           "#5CFF5C",
           "#5CFF5C",
           "#5CFF5C",
           "#5CFF5C",
           "#5CFF5C",
           "#5CFF5C",
           "#007500",
           "#5CFF5C",
           "#5CFF5C",
           "#5CFF5C",
           "#5CFF5C",
           "#5CFF5C",
           "#5CFF5C",
           "#5CFF5C",
           "#007500",
           "#5CFF5C",
           "#5CFF5C",
           "#5CFF5C",
           "#007500",
           "#5CFF5C",
           "#5CFF5C",
           "#5CFF5C",
           "#007500",
           "#007500",
           "#5CFF5C",
           "#5CFF5C",
           "#5CFF5C",
           "#5CFF5C",
           "#5CFF5C",
           "#5CFF5C",
           "#5CFF5C",
           "#007500",
           "#5CFF5C",
           "#5CFF5C",
           "#5CFF5C",
           "#5CFF5C",
           "#007500",
           "#5CFF5C",
           "#5CFF5C",
           "#5CFF5C",
           "#007500",
           "#5CFF5C",
           "#5CFF5C",
           "#5CFF5C",
           "#007500",
           "#5CFF5C",
           "#5CFF5C",
           "#5CFF5C",
           "#007500",
           "#5CFF5C",
           "#5CFF5C",
           "#5CFF5C",
           "#5CFF5C",
           "#007500",
           "#007500",
           "#5CFF5C",
           "#5CFF5C",
           "#5CFF5C",
           "#5CFF5C",
           "#5CFF5C",
           "#5CFF5C",
           "#007500",
           "#5CFF5C",
           "#5CFF5C",
           "#5CFF5C",
           "#5CFF5C",
           "#5CFF5C",
           "#5CFF5C",
           "#5CFF5C",
           "#5CFF5C",
           "#5CFF5C",
           "#5CFF5C",
           "#5CFF5C",
           "#007500",
           "#5CFF5C",
           "#5CFF5C",
           "#5CFF5C",
           "#007500",
           "#007500",
           "#007500",
           "#007500",
           "#5CFF5C",
           "#5CFF5C",
           "#007500",
           "#007500",
           "#5CFF5C",
           "#5CFF5C",
           "#5CFF5C",
           "#5CFF5C",
           "#5CFF5C",
           "#5CFF5C",
           "#5CFF5C",
           "#5CFF5C",
           "#5CFF5C",
           "#5CFF5C",
           "#5CFF5C",
           "#5CFF5C",
           "#5CFF5C",
           "#007500",
           "#007500",
           "#5CFF5C",
           "#5CFF5C",
           "#5CFF5C",
           "#5CFF5C",
           "#5CFF5C",
           "#5CFF5C",
           "#5CFF5C",
           "#007500",
           "#5CFF5C",
           "#5CFF5C",
           "#5CFF5C",
           "#5CFF5C",
           "#5CFF5C",
           "#5CFF5C",
           "#5CFF5C",
           "#007500",
           "#5CFF5C",
           "#007500",
           "#007500",
           "#5CFF5C",
           "#5CFF5C",
           "#5CFF5C",
           "#007500",
           "#5CFF5C",
           "#007500",
           "#5CFF5C",
           "#007500",
           "#5CFF5C",
           "#007500",
           "#5CFF5C",
           "#007500",
           "#5CFF5C",
           "#5CFF5C",
           "#007500",
           "#5CFF5C",
           "#5CFF5C",
           "#007500",
           "#5CFF5C",
           "#5CFF5C",
           "#5CFF5C",
           "#5CFF5C",
           "#007500",
           "#007500",
           "#5CFF5C",
           "#007500",
           "#5CFF5C",
           "#5CFF5C",
           "#5CFF5C",
           "#5CFF5C",
           "#007500",
           "#007500",
           "#5CFF5C",
           "#007500",
           "#5CFF5C",
           "#5CFF5C",
           "#5CFF5C",
           "#007500",
           "#007500",
           "#5CFF5C",
           "#5CFF5C",
           "#5CFF5C",
           "#5CFF5C",
           "#5CFF5C",
           "#5CFF5C",
           "#5CFF5C",
           "#5CFF5C",
           "#5CFF5C",
           "#5CFF5C",
           "#007500",
           "#5CFF5C",
           "#5CFF5C",
           "#5CFF5C",
           "#5CFF5C",
           "#007500",
           "#5CFF5C",
           "#5CFF5C",
           "#007500",
           "#5CFF5C",
           "#5CFF5C",
           "#5CFF5C",
           "#007500",
           "#5CFF5C",
           "#5CFF5C",
           "#5CFF5C",
           "#007500",
           "#007500",
           "#007500",
           "#5CFF5C",
           "#5CFF5C",
           "#5CFF5C",
           "#5CFF5C",
           "#5CFF5C",
           "#5CFF5C",
           "#007500",
           "#5CFF5C",
           "#5CFF5C",
           "#5CFF5C",
           "#007500",
           "#5CFF5C",
           "#007500",
           "#007500",
           "#007500",
           "#007500",
           "#5CFF5C",
           "#007500",
           "#007500",
           "#5CFF5C",
           "#5CFF5C",
           "#5CFF5C",
           "#5CFF5C",
           "#5CFF5C",
           "#5CFF5C",
           "#5CFF5C",
           "#007500",
           "#007500",
           "#5CFF5C",
           "#007500",
           "#5CFF5C",
           "#5CFF5C",
           "#007500",
           "#5CFF5C",
           "#007500",
           "#5CFF5C",
           "#5CFF5C",
           "#5CFF5C",
           "#5CFF5C",
           "#5CFF5C",
           "#007500",
           "#5CFF5C",
           "#007500",
           "#5CFF5C",
           "#007500",
           "#5CFF5C",
           "#007500",
           "#007500",
           "#5CFF5C",
           "#5CFF5C",
           "#5CFF5C",
           "#5CFF5C",
           "#007500",
           "#007500",
           "#5CFF5C",
           "#5CFF5C",
           "#5CFF5C",
           "#007500",
           "#5CFF5C",
           "#007500",
           "#007500",
           "#5CFF5C",
           "#5CFF5C",
           "#007500",
           "#5CFF5C",
           "#5CFF5C",
           "#007500",
           "#007500",
           "#5CFF5C",
           "#5CFF5C",
           "#007500",
           "#5CFF5C",
           "#5CFF5C",
           "#007500",
           "#5CFF5C",
           "#5CFF5C",
           "#5CFF5C",
           "#5CFF5C",
           "#5CFF5C",
           "#5CFF5C",
           "#5CFF5C",
           "#007500",
           "#007500",
           "#007500",
           "#5CFF5C",
           "#5CFF5C",
           "#5CFF5C",
           "#5CFF5C",
           "#5CFF5C",
           "#5CFF5C",
           "#007500",
           "#007500",
           "#5CFF5C",
           "#5CFF5C",
           "#007500",
           "#5CFF5C",
           "#5CFF5C",
           "#007500",
           "#5CFF5C",
           "#007500",
           "#007500",
           "#007500",
           "#5CFF5C",
           "#5CFF5C",
           "#007500",
           "#007500",
           "#007500",
           "#5CFF5C",
           "#007500",
           "#5CFF5C",
           "#007500",
           "#5CFF5C",
           "#007500",
           "#5CFF5C",
           "#5CFF5C",
           "#5CFF5C",
           "#5CFF5C",
           "#007500",
           "#5CFF5C"
          ]
         },
         "name": "",
         "showlegend": true,
         "type": "pie"
        }
       ],
       "layout": {
        "legend": {
         "tracegroupgap": 0
        },
        "piecolorway": [
         "#007500",
         "#5CFF5C"
        ],
        "template": {
         "data": {
          "bar": [
           {
            "error_x": {
             "color": "#2a3f5f"
            },
            "error_y": {
             "color": "#2a3f5f"
            },
            "marker": {
             "line": {
              "color": "#E5ECF6",
              "width": 0.5
             },
             "pattern": {
              "fillmode": "overlay",
              "size": 10,
              "solidity": 0.2
             }
            },
            "type": "bar"
           }
          ],
          "barpolar": [
           {
            "marker": {
             "line": {
              "color": "#E5ECF6",
              "width": 0.5
             },
             "pattern": {
              "fillmode": "overlay",
              "size": 10,
              "solidity": 0.2
             }
            },
            "type": "barpolar"
           }
          ],
          "carpet": [
           {
            "aaxis": {
             "endlinecolor": "#2a3f5f",
             "gridcolor": "white",
             "linecolor": "white",
             "minorgridcolor": "white",
             "startlinecolor": "#2a3f5f"
            },
            "baxis": {
             "endlinecolor": "#2a3f5f",
             "gridcolor": "white",
             "linecolor": "white",
             "minorgridcolor": "white",
             "startlinecolor": "#2a3f5f"
            },
            "type": "carpet"
           }
          ],
          "choropleth": [
           {
            "colorbar": {
             "outlinewidth": 0,
             "ticks": ""
            },
            "type": "choropleth"
           }
          ],
          "contour": [
           {
            "colorbar": {
             "outlinewidth": 0,
             "ticks": ""
            },
            "colorscale": [
             [
              0,
              "#0d0887"
             ],
             [
              0.1111111111111111,
              "#46039f"
             ],
             [
              0.2222222222222222,
              "#7201a8"
             ],
             [
              0.3333333333333333,
              "#9c179e"
             ],
             [
              0.4444444444444444,
              "#bd3786"
             ],
             [
              0.5555555555555556,
              "#d8576b"
             ],
             [
              0.6666666666666666,
              "#ed7953"
             ],
             [
              0.7777777777777778,
              "#fb9f3a"
             ],
             [
              0.8888888888888888,
              "#fdca26"
             ],
             [
              1,
              "#f0f921"
             ]
            ],
            "type": "contour"
           }
          ],
          "contourcarpet": [
           {
            "colorbar": {
             "outlinewidth": 0,
             "ticks": ""
            },
            "type": "contourcarpet"
           }
          ],
          "heatmap": [
           {
            "colorbar": {
             "outlinewidth": 0,
             "ticks": ""
            },
            "colorscale": [
             [
              0,
              "#0d0887"
             ],
             [
              0.1111111111111111,
              "#46039f"
             ],
             [
              0.2222222222222222,
              "#7201a8"
             ],
             [
              0.3333333333333333,
              "#9c179e"
             ],
             [
              0.4444444444444444,
              "#bd3786"
             ],
             [
              0.5555555555555556,
              "#d8576b"
             ],
             [
              0.6666666666666666,
              "#ed7953"
             ],
             [
              0.7777777777777778,
              "#fb9f3a"
             ],
             [
              0.8888888888888888,
              "#fdca26"
             ],
             [
              1,
              "#f0f921"
             ]
            ],
            "type": "heatmap"
           }
          ],
          "histogram": [
           {
            "marker": {
             "pattern": {
              "fillmode": "overlay",
              "size": 10,
              "solidity": 0.2
             }
            },
            "type": "histogram"
           }
          ],
          "histogram2d": [
           {
            "colorbar": {
             "outlinewidth": 0,
             "ticks": ""
            },
            "colorscale": [
             [
              0,
              "#0d0887"
             ],
             [
              0.1111111111111111,
              "#46039f"
             ],
             [
              0.2222222222222222,
              "#7201a8"
             ],
             [
              0.3333333333333333,
              "#9c179e"
             ],
             [
              0.4444444444444444,
              "#bd3786"
             ],
             [
              0.5555555555555556,
              "#d8576b"
             ],
             [
              0.6666666666666666,
              "#ed7953"
             ],
             [
              0.7777777777777778,
              "#fb9f3a"
             ],
             [
              0.8888888888888888,
              "#fdca26"
             ],
             [
              1,
              "#f0f921"
             ]
            ],
            "type": "histogram2d"
           }
          ],
          "histogram2dcontour": [
           {
            "colorbar": {
             "outlinewidth": 0,
             "ticks": ""
            },
            "colorscale": [
             [
              0,
              "#0d0887"
             ],
             [
              0.1111111111111111,
              "#46039f"
             ],
             [
              0.2222222222222222,
              "#7201a8"
             ],
             [
              0.3333333333333333,
              "#9c179e"
             ],
             [
              0.4444444444444444,
              "#bd3786"
             ],
             [
              0.5555555555555556,
              "#d8576b"
             ],
             [
              0.6666666666666666,
              "#ed7953"
             ],
             [
              0.7777777777777778,
              "#fb9f3a"
             ],
             [
              0.8888888888888888,
              "#fdca26"
             ],
             [
              1,
              "#f0f921"
             ]
            ],
            "type": "histogram2dcontour"
           }
          ],
          "mesh3d": [
           {
            "colorbar": {
             "outlinewidth": 0,
             "ticks": ""
            },
            "type": "mesh3d"
           }
          ],
          "parcoords": [
           {
            "line": {
             "colorbar": {
              "outlinewidth": 0,
              "ticks": ""
             }
            },
            "type": "parcoords"
           }
          ],
          "pie": [
           {
            "automargin": true,
            "type": "pie"
           }
          ],
          "scatter": [
           {
            "fillpattern": {
             "fillmode": "overlay",
             "size": 10,
             "solidity": 0.2
            },
            "type": "scatter"
           }
          ],
          "scatter3d": [
           {
            "line": {
             "colorbar": {
              "outlinewidth": 0,
              "ticks": ""
             }
            },
            "marker": {
             "colorbar": {
              "outlinewidth": 0,
              "ticks": ""
             }
            },
            "type": "scatter3d"
           }
          ],
          "scattercarpet": [
           {
            "marker": {
             "colorbar": {
              "outlinewidth": 0,
              "ticks": ""
             }
            },
            "type": "scattercarpet"
           }
          ],
          "scattergeo": [
           {
            "marker": {
             "colorbar": {
              "outlinewidth": 0,
              "ticks": ""
             }
            },
            "type": "scattergeo"
           }
          ],
          "scattergl": [
           {
            "marker": {
             "colorbar": {
              "outlinewidth": 0,
              "ticks": ""
             }
            },
            "type": "scattergl"
           }
          ],
          "scattermap": [
           {
            "marker": {
             "colorbar": {
              "outlinewidth": 0,
              "ticks": ""
             }
            },
            "type": "scattermap"
           }
          ],
          "scattermapbox": [
           {
            "marker": {
             "colorbar": {
              "outlinewidth": 0,
              "ticks": ""
             }
            },
            "type": "scattermapbox"
           }
          ],
          "scatterpolar": [
           {
            "marker": {
             "colorbar": {
              "outlinewidth": 0,
              "ticks": ""
             }
            },
            "type": "scatterpolar"
           }
          ],
          "scatterpolargl": [
           {
            "marker": {
             "colorbar": {
              "outlinewidth": 0,
              "ticks": ""
             }
            },
            "type": "scatterpolargl"
           }
          ],
          "scatterternary": [
           {
            "marker": {
             "colorbar": {
              "outlinewidth": 0,
              "ticks": ""
             }
            },
            "type": "scatterternary"
           }
          ],
          "surface": [
           {
            "colorbar": {
             "outlinewidth": 0,
             "ticks": ""
            },
            "colorscale": [
             [
              0,
              "#0d0887"
             ],
             [
              0.1111111111111111,
              "#46039f"
             ],
             [
              0.2222222222222222,
              "#7201a8"
             ],
             [
              0.3333333333333333,
              "#9c179e"
             ],
             [
              0.4444444444444444,
              "#bd3786"
             ],
             [
              0.5555555555555556,
              "#d8576b"
             ],
             [
              0.6666666666666666,
              "#ed7953"
             ],
             [
              0.7777777777777778,
              "#fb9f3a"
             ],
             [
              0.8888888888888888,
              "#fdca26"
             ],
             [
              1,
              "#f0f921"
             ]
            ],
            "type": "surface"
           }
          ],
          "table": [
           {
            "cells": {
             "fill": {
              "color": "#EBF0F8"
             },
             "line": {
              "color": "white"
             }
            },
            "header": {
             "fill": {
              "color": "#C8D4E3"
             },
             "line": {
              "color": "white"
             }
            },
            "type": "table"
           }
          ]
         },
         "layout": {
          "annotationdefaults": {
           "arrowcolor": "#2a3f5f",
           "arrowhead": 0,
           "arrowwidth": 1
          },
          "autotypenumbers": "strict",
          "coloraxis": {
           "colorbar": {
            "outlinewidth": 0,
            "ticks": ""
           }
          },
          "colorscale": {
           "diverging": [
            [
             0,
             "#8e0152"
            ],
            [
             0.1,
             "#c51b7d"
            ],
            [
             0.2,
             "#de77ae"
            ],
            [
             0.3,
             "#f1b6da"
            ],
            [
             0.4,
             "#fde0ef"
            ],
            [
             0.5,
             "#f7f7f7"
            ],
            [
             0.6,
             "#e6f5d0"
            ],
            [
             0.7,
             "#b8e186"
            ],
            [
             0.8,
             "#7fbc41"
            ],
            [
             0.9,
             "#4d9221"
            ],
            [
             1,
             "#276419"
            ]
           ],
           "sequential": [
            [
             0,
             "#0d0887"
            ],
            [
             0.1111111111111111,
             "#46039f"
            ],
            [
             0.2222222222222222,
             "#7201a8"
            ],
            [
             0.3333333333333333,
             "#9c179e"
            ],
            [
             0.4444444444444444,
             "#bd3786"
            ],
            [
             0.5555555555555556,
             "#d8576b"
            ],
            [
             0.6666666666666666,
             "#ed7953"
            ],
            [
             0.7777777777777778,
             "#fb9f3a"
            ],
            [
             0.8888888888888888,
             "#fdca26"
            ],
            [
             1,
             "#f0f921"
            ]
           ],
           "sequentialminus": [
            [
             0,
             "#0d0887"
            ],
            [
             0.1111111111111111,
             "#46039f"
            ],
            [
             0.2222222222222222,
             "#7201a8"
            ],
            [
             0.3333333333333333,
             "#9c179e"
            ],
            [
             0.4444444444444444,
             "#bd3786"
            ],
            [
             0.5555555555555556,
             "#d8576b"
            ],
            [
             0.6666666666666666,
             "#ed7953"
            ],
            [
             0.7777777777777778,
             "#fb9f3a"
            ],
            [
             0.8888888888888888,
             "#fdca26"
            ],
            [
             1,
             "#f0f921"
            ]
           ]
          },
          "colorway": [
           "#636efa",
           "#EF553B",
           "#00cc96",
           "#ab63fa",
           "#FFA15A",
           "#19d3f3",
           "#FF6692",
           "#B6E880",
           "#FF97FF",
           "#FECB52"
          ],
          "font": {
           "color": "#2a3f5f"
          },
          "geo": {
           "bgcolor": "white",
           "lakecolor": "white",
           "landcolor": "#E5ECF6",
           "showlakes": true,
           "showland": true,
           "subunitcolor": "white"
          },
          "hoverlabel": {
           "align": "left"
          },
          "hovermode": "closest",
          "mapbox": {
           "style": "light"
          },
          "paper_bgcolor": "white",
          "plot_bgcolor": "#E5ECF6",
          "polar": {
           "angularaxis": {
            "gridcolor": "white",
            "linecolor": "white",
            "ticks": ""
           },
           "bgcolor": "#E5ECF6",
           "radialaxis": {
            "gridcolor": "white",
            "linecolor": "white",
            "ticks": ""
           }
          },
          "scene": {
           "xaxis": {
            "backgroundcolor": "#E5ECF6",
            "gridcolor": "white",
            "gridwidth": 2,
            "linecolor": "white",
            "showbackground": true,
            "ticks": "",
            "zerolinecolor": "white"
           },
           "yaxis": {
            "backgroundcolor": "#E5ECF6",
            "gridcolor": "white",
            "gridwidth": 2,
            "linecolor": "white",
            "showbackground": true,
            "ticks": "",
            "zerolinecolor": "white"
           },
           "zaxis": {
            "backgroundcolor": "#E5ECF6",
            "gridcolor": "white",
            "gridwidth": 2,
            "linecolor": "white",
            "showbackground": true,
            "ticks": "",
            "zerolinecolor": "white"
           }
          },
          "shapedefaults": {
           "line": {
            "color": "#2a3f5f"
           }
          },
          "ternary": {
           "aaxis": {
            "gridcolor": "white",
            "linecolor": "white",
            "ticks": ""
           },
           "baxis": {
            "gridcolor": "white",
            "linecolor": "white",
            "ticks": ""
           },
           "bgcolor": "#E5ECF6",
           "caxis": {
            "gridcolor": "white",
            "linecolor": "white",
            "ticks": ""
           }
          },
          "title": {
           "x": 0.05
          },
          "xaxis": {
           "automargin": true,
           "gridcolor": "white",
           "linecolor": "white",
           "ticks": "",
           "title": {
            "standoff": 15
           },
           "zerolinecolor": "white",
           "zerolinewidth": 2
          },
          "yaxis": {
           "automargin": true,
           "gridcolor": "white",
           "linecolor": "white",
           "ticks": "",
           "title": {
            "standoff": 15
           },
           "zerolinecolor": "white",
           "zerolinewidth": 2
          }
         }
        },
        "title": {
         "text": "Data Distribution: Diabetic vs Non-Diabetic"
        }
       }
      }
     },
     "metadata": {},
     "output_type": "display_data"
    }
   ],
   "source": [
    " #Output label / Target variable / Y-label : data distribution \n",
    "# pie-plot : proportion of Diabetic v/s Non Diabetic\n",
    "\n",
    "px.pie(df, \n",
    "       names ='Outcome',\n",
    "       color = 'Outcome',\n",
    "       color_discrete_sequence = ['#007500','#5CFF5C'],\n",
    "       title = \"Data Distribution: Diabetic vs Non-Diabetic\")\n",
    "\n",
    "\n",
    "# Inferences :\n",
    "\n",
    "# The dataset is imbalanced (Non-Diabetic : Diabetic = 65:35)\n",
    "# There are more cases of Non-Diabetic patients than Diabetic patients.\n",
    "# For imbalanced datasets, accuracy can be a misleading metric.\n",
    "# For example, if 65% of the cases are Non-Diabetic, the model may always predict \"Non-Diabetic\" \n",
    "# and still achieve 65% accuracy.\n",
    "# In such cases, we need to focus on metrics like Precision, Recall, F1-score, or use Balanced Accuracy.\n"
   ]
  },
  {
   "cell_type": "markdown",
   "id": "6b700482",
   "metadata": {},
   "source": [
    "Creating Correlation wuth Target variable"
   ]
  },
  {
   "cell_type": "code",
   "execution_count": 12,
   "id": "432faf1c",
   "metadata": {},
   "outputs": [
    {
     "data": {
      "image/png": "[encoded data removed]",
      "text/plain": [
       "<Figure size 1200x800 with 2 Axes>"
      ]
     },
     "metadata": {},
     "output_type": "display_data"
    }
   ],
   "source": [
    "\n",
    "corr = df.corr()\n",
    "plt.figure(figsize=(12,8))\n",
    "sns.heatmap(corr, cmap='viridis_r', annot=True, fmt=\".2f\")\n",
    "plt.title(\"Correlation Heatmap\", fontsize=16)\n",
    "plt.show()\n",
    "\n"
   ]
  },
  {
   "cell_type": "code",
   "execution_count": 13,
   "id": "4bfd2368",
   "metadata": {},
   "outputs": [
    {
     "data": {
      "text/html": [
       "<div>\n",
       "<style scoped>\n",
       "    .dataframe tbody tr th:only-of-type {\n",
       "        vertical-align: middle;\n",
       "    }\n",
       "\n",
       "    .dataframe tbody tr th {\n",
       "        vertical-align: top;\n",
       "    }\n",
       "\n",
       "    .dataframe thead th {\n",
       "        text-align: right;\n",
       "    }\n",
       "</style>\n",
       "<table border=\"1\" class=\"dataframe\">\n",
       "  <thead>\n",
       "    <tr style=\"text-align: right;\">\n",
       "      <th></th>\n",
       "      <th>Pregnancies</th>\n",
       "      <th>Glucose</th>\n",
       "      <th>BloodPressure</th>\n",
       "      <th>SkinThickness</th>\n",
       "      <th>Insulin</th>\n",
       "      <th>BMI</th>\n",
       "      <th>DiabetesPedigreeFunction</th>\n",
       "      <th>Age</th>\n",
       "      <th>Outcome</th>\n",
       "    </tr>\n",
       "  </thead>\n",
       "  <tbody>\n",
       "    <tr>\n",
       "      <th>Pregnancies</th>\n",
       "      <td>1.000000</td>\n",
       "      <td>0.128213</td>\n",
       "      <td>0.208615</td>\n",
       "      <td>0.081770</td>\n",
       "      <td>0.025047</td>\n",
       "      <td>0.021559</td>\n",
       "      <td>-0.033523</td>\n",
       "      <td>0.544341</td>\n",
       "      <td>0.221898</td>\n",
       "    </tr>\n",
       "    <tr>\n",
       "      <th>Glucose</th>\n",
       "      <td>0.128213</td>\n",
       "      <td>1.000000</td>\n",
       "      <td>0.218937</td>\n",
       "      <td>0.192615</td>\n",
       "      <td>0.419451</td>\n",
       "      <td>0.231049</td>\n",
       "      <td>0.137327</td>\n",
       "      <td>0.266909</td>\n",
       "      <td>0.492782</td>\n",
       "    </tr>\n",
       "    <tr>\n",
       "      <th>BloodPressure</th>\n",
       "      <td>0.208615</td>\n",
       "      <td>0.218937</td>\n",
       "      <td>1.000000</td>\n",
       "      <td>0.191892</td>\n",
       "      <td>0.045363</td>\n",
       "      <td>0.281257</td>\n",
       "      <td>-0.002378</td>\n",
       "      <td>0.324915</td>\n",
       "      <td>0.165723</td>\n",
       "    </tr>\n",
       "    <tr>\n",
       "      <th>SkinThickness</th>\n",
       "      <td>0.081770</td>\n",
       "      <td>0.192615</td>\n",
       "      <td>0.191892</td>\n",
       "      <td>1.000000</td>\n",
       "      <td>0.155610</td>\n",
       "      <td>0.543205</td>\n",
       "      <td>0.102188</td>\n",
       "      <td>0.126107</td>\n",
       "      <td>0.214873</td>\n",
       "    </tr>\n",
       "    <tr>\n",
       "      <th>Insulin</th>\n",
       "      <td>0.025047</td>\n",
       "      <td>0.419451</td>\n",
       "      <td>0.045363</td>\n",
       "      <td>0.155610</td>\n",
       "      <td>1.000000</td>\n",
       "      <td>0.180241</td>\n",
       "      <td>0.126503</td>\n",
       "      <td>0.097101</td>\n",
       "      <td>0.203790</td>\n",
       "    </tr>\n",
       "    <tr>\n",
       "      <th>BMI</th>\n",
       "      <td>0.021559</td>\n",
       "      <td>0.231049</td>\n",
       "      <td>0.281257</td>\n",
       "      <td>0.543205</td>\n",
       "      <td>0.180241</td>\n",
       "      <td>1.000000</td>\n",
       "      <td>0.153438</td>\n",
       "      <td>0.025597</td>\n",
       "      <td>0.312038</td>\n",
       "    </tr>\n",
       "    <tr>\n",
       "      <th>DiabetesPedigreeFunction</th>\n",
       "      <td>-0.033523</td>\n",
       "      <td>0.137327</td>\n",
       "      <td>-0.002378</td>\n",
       "      <td>0.102188</td>\n",
       "      <td>0.126503</td>\n",
       "      <td>0.153438</td>\n",
       "      <td>1.000000</td>\n",
       "      <td>0.033561</td>\n",
       "      <td>0.173844</td>\n",
       "    </tr>\n",
       "    <tr>\n",
       "      <th>Age</th>\n",
       "      <td>0.544341</td>\n",
       "      <td>0.266909</td>\n",
       "      <td>0.324915</td>\n",
       "      <td>0.126107</td>\n",
       "      <td>0.097101</td>\n",
       "      <td>0.025597</td>\n",
       "      <td>0.033561</td>\n",
       "      <td>1.000000</td>\n",
       "      <td>0.238356</td>\n",
       "    </tr>\n",
       "    <tr>\n",
       "      <th>Outcome</th>\n",
       "      <td>0.221898</td>\n",
       "      <td>0.492782</td>\n",
       "      <td>0.165723</td>\n",
       "      <td>0.214873</td>\n",
       "      <td>0.203790</td>\n",
       "      <td>0.312038</td>\n",
       "      <td>0.173844</td>\n",
       "      <td>0.238356</td>\n",
       "      <td>1.000000</td>\n",
       "    </tr>\n",
       "  </tbody>\n",
       "</table>\n",
       "</div>"
      ],
      "text/plain": [
       "                          Pregnancies   Glucose  BloodPressure  SkinThickness  \\\n",
       "Pregnancies                  1.000000  0.128213       0.208615       0.081770   \n",
       "Glucose                      0.128213  1.000000       0.218937       0.192615   \n",
       "BloodPressure                0.208615  0.218937       1.000000       0.191892   \n",
       "SkinThickness                0.081770  0.192615       0.191892       1.000000   \n",
       "Insulin                      0.025047  0.419451       0.045363       0.155610   \n",
       "BMI                          0.021559  0.231049       0.281257       0.543205   \n",
       "DiabetesPedigreeFunction    -0.033523  0.137327      -0.002378       0.102188   \n",
       "Age                          0.544341  0.266909       0.324915       0.126107   \n",
       "Outcome                      0.221898  0.492782       0.165723       0.214873   \n",
       "\n",
       "                           Insulin       BMI  DiabetesPedigreeFunction  \\\n",
       "Pregnancies               0.025047  0.021559                 -0.033523   \n",
       "Glucose                   0.419451  0.231049                  0.137327   \n",
       "BloodPressure             0.045363  0.281257                 -0.002378   \n",
       "SkinThickness             0.155610  0.543205                  0.102188   \n",
       "Insulin                   1.000000  0.180241                  0.126503   \n",
       "BMI                       0.180241  1.000000                  0.153438   \n",
       "DiabetesPedigreeFunction  0.126503  0.153438                  1.000000   \n",
       "Age                       0.097101  0.025597                  0.033561   \n",
       "Outcome                   0.203790  0.312038                  0.173844   \n",
       "\n",
       "                               Age   Outcome  \n",
       "Pregnancies               0.544341  0.221898  \n",
       "Glucose                   0.266909  0.492782  \n",
       "BloodPressure             0.324915  0.165723  \n",
       "SkinThickness             0.126107  0.214873  \n",
       "Insulin                   0.097101  0.203790  \n",
       "BMI                       0.025597  0.312038  \n",
       "DiabetesPedigreeFunction  0.033561  0.173844  \n",
       "Age                       1.000000  0.238356  \n",
       "Outcome                   0.238356  1.000000  "
      ]
     },
     "execution_count": 13,
     "metadata": {},
     "output_type": "execute_result"
    }
   ],
   "source": [
    "df.corr()"
   ]
  },
  {
   "cell_type": "code",
   "execution_count": 14,
   "id": "a48edd2b",
   "metadata": {},
   "outputs": [
    {
     "name": "stdout",
     "output_type": "stream",
     "text": [
      "Selected Features based on correlation > 0.25:\n",
      "['Glucose', 'BMI']\n"
     ]
    }
   ],
   "source": [
    "\n",
    "cor_target = abs(corr['Outcome'])   \n",
    "relevant_features = cor_target[cor_target > 0.25]\n",
    "names = [index for index, value in relevant_features.items()]\n",
    "names.remove(\"Outcome\")\n",
    "\n",
    "print(\"Selected Features based on correlation > 0.25:\")\n",
    "pprint.pprint(names)\n",
    "X = df[names]\n",
    "y = df[\"Outcome\"]\n"
   ]
  },
  {
   "cell_type": "code",
   "execution_count": 15,
   "id": "c4731301",
   "metadata": {},
   "outputs": [
    {
     "name": "stdout",
     "output_type": "stream",
     "text": [
      "Outcome                     1.000000\n",
      "Glucose                     0.492782\n",
      "BMI                         0.312038\n",
      "Age                         0.238356\n",
      "Pregnancies                 0.221898\n",
      "SkinThickness               0.214873\n",
      "Insulin                     0.203790\n",
      "DiabetesPedigreeFunction    0.173844\n",
      "BloodPressure               0.165723\n",
      "Name: Outcome, dtype: float64\n"
     ]
    }
   ],
   "source": [
    "print(corr['Outcome'].sort_values(ascending=False))\n"
   ]
  },
  {
   "cell_type": "markdown",
   "id": "6c297f44",
   "metadata": {},
   "source": [
    "Assign training data and training labels"
   ]
  },
  {
   "cell_type": "code",
   "execution_count": 16,
   "id": "568f3d40",
   "metadata": {},
   "outputs": [],
   "source": [
    "# Selected features based on correlation\n",
    "features = ['Glucose', 'BMI']\n",
    "\n",
    "# Independent variables (X) = input features\n",
    "X = df[features]\n",
    "\n",
    "# Dependent variable (y) = target label\n",
    "y = df['Outcome']\n"
   ]
  },
  {
   "cell_type": "code",
   "execution_count": 17,
   "id": "36591441",
   "metadata": {},
   "outputs": [
    {
     "name": "stdout",
     "output_type": "stream",
     "text": [
      "Input features shape: (768, 2)\n",
      "Output label shape: (768, 1)\n"
     ]
    }
   ],
   "source": [
    "X = df[names].values  # names = ['Glucose', 'BMI']\n",
    "\n",
    "y = df['Outcome'].values.reshape(-1, 1)\n",
    "\n",
    "print(\"Input features shape:\", X.shape)\n",
    "print(\"Output label shape:\", y.shape)"
   ]
  },
  {
   "cell_type": "code",
   "execution_count": 18,
   "id": "6d105c62",
   "metadata": {},
   "outputs": [
    {
     "data": {
      "text/html": [
       "<div>\n",
       "<style scoped>\n",
       "    .dataframe tbody tr th:only-of-type {\n",
       "        vertical-align: middle;\n",
       "    }\n",
       "\n",
       "    .dataframe tbody tr th {\n",
       "        vertical-align: top;\n",
       "    }\n",
       "\n",
       "    .dataframe thead th {\n",
       "        text-align: right;\n",
       "    }\n",
       "</style>\n",
       "<table border=\"1\" class=\"dataframe\">\n",
       "  <thead>\n",
       "    <tr style=\"text-align: right;\">\n",
       "      <th></th>\n",
       "      <th>Pregnancies</th>\n",
       "      <th>Glucose</th>\n",
       "      <th>BloodPressure</th>\n",
       "      <th>SkinThickness</th>\n",
       "      <th>Insulin</th>\n",
       "      <th>BMI</th>\n",
       "      <th>DiabetesPedigreeFunction</th>\n",
       "      <th>Age</th>\n",
       "      <th>Outcome</th>\n",
       "    </tr>\n",
       "  </thead>\n",
       "  <tbody>\n",
       "    <tr>\n",
       "      <th>0</th>\n",
       "      <td>6</td>\n",
       "      <td>148.0</td>\n",
       "      <td>72.0</td>\n",
       "      <td>35.0</td>\n",
       "      <td>125.0</td>\n",
       "      <td>33.6</td>\n",
       "      <td>0.627</td>\n",
       "      <td>50</td>\n",
       "      <td>1</td>\n",
       "    </tr>\n",
       "    <tr>\n",
       "      <th>1</th>\n",
       "      <td>1</td>\n",
       "      <td>85.0</td>\n",
       "      <td>66.0</td>\n",
       "      <td>29.0</td>\n",
       "      <td>125.0</td>\n",
       "      <td>26.6</td>\n",
       "      <td>0.351</td>\n",
       "      <td>31</td>\n",
       "      <td>0</td>\n",
       "    </tr>\n",
       "    <tr>\n",
       "      <th>2</th>\n",
       "      <td>8</td>\n",
       "      <td>183.0</td>\n",
       "      <td>64.0</td>\n",
       "      <td>29.0</td>\n",
       "      <td>125.0</td>\n",
       "      <td>23.3</td>\n",
       "      <td>0.672</td>\n",
       "      <td>32</td>\n",
       "      <td>1</td>\n",
       "    </tr>\n",
       "    <tr>\n",
       "      <th>3</th>\n",
       "      <td>1</td>\n",
       "      <td>89.0</td>\n",
       "      <td>66.0</td>\n",
       "      <td>23.0</td>\n",
       "      <td>94.0</td>\n",
       "      <td>28.1</td>\n",
       "      <td>0.167</td>\n",
       "      <td>21</td>\n",
       "      <td>0</td>\n",
       "    </tr>\n",
       "    <tr>\n",
       "      <th>4</th>\n",
       "      <td>0</td>\n",
       "      <td>137.0</td>\n",
       "      <td>40.0</td>\n",
       "      <td>35.0</td>\n",
       "      <td>168.0</td>\n",
       "      <td>43.1</td>\n",
       "      <td>2.288</td>\n",
       "      <td>33</td>\n",
       "      <td>1</td>\n",
       "    </tr>\n",
       "  </tbody>\n",
       "</table>\n",
       "</div>"
      ],
      "text/plain": [
       "   Pregnancies  Glucose  BloodPressure  SkinThickness  Insulin   BMI  \\\n",
       "0            6    148.0           72.0           35.0    125.0  33.6   \n",
       "1            1     85.0           66.0           29.0    125.0  26.6   \n",
       "2            8    183.0           64.0           29.0    125.0  23.3   \n",
       "3            1     89.0           66.0           23.0     94.0  28.1   \n",
       "4            0    137.0           40.0           35.0    168.0  43.1   \n",
       "\n",
       "   DiabetesPedigreeFunction  Age  Outcome  \n",
       "0                     0.627   50        1  \n",
       "1                     0.351   31        0  \n",
       "2                     0.672   32        1  \n",
       "3                     0.167   21        0  \n",
       "4                     2.288   33        1  "
      ]
     },
     "execution_count": 18,
     "metadata": {},
     "output_type": "execute_result"
    }
   ],
   "source": [
    "df.head()"
   ]
  },
  {
   "cell_type": "code",
   "execution_count": 25,
   "id": "892c4183",
   "metadata": {},
   "outputs": [],
   "source": [
    "import pandas as pd\n",
    "from sklearn.model_selection import train_test_split\n",
    "\n",
    "# Features selected based on correlation > 0.25\n",
    "X = df[['Glucose', 'BMI']].values\n",
    "y = df['Outcome'].values\n",
    "\n",
    "# Split into training and testing\n",
    "X_train, X_test, y_train, y_test = train_test_split(X, y, test_size=0.2, random_state=42)\n"
   ]
  },
  {
   "cell_type": "code",
   "execution_count": null,
   "id": "f6de50f3",
   "metadata": {},
   "outputs": [],
   "source": [
    "#Train Decision Tree Model\n",
    "\n",
    "from sklearn.tree import DecisionTreeClassifier\n",
    "\n",
    "clf = DecisionTreeClassifier(max_depth=3, random_state=42)\n",
    "\n",
    "clf.fit(X_train, y_train)\n",
    "\n",
    "y_pred = clf.predict(X_test)\n",
    "\n"
   ]
  },
  {
   "cell_type": "code",
   "execution_count": 28,
   "id": "aecccfe6",
   "metadata": {},
   "outputs": [
    {
     "name": "stdout",
     "output_type": "stream",
     "text": [
      "Accuracy: 0.7597402597402597\n",
      "\n",
      "Classification Report:\n",
      "               precision    recall  f1-score   support\n",
      "\n",
      "           0       0.80      0.84      0.82        99\n",
      "           1       0.68      0.62      0.65        55\n",
      "\n",
      "    accuracy                           0.76       154\n",
      "   macro avg       0.74      0.73      0.73       154\n",
      "weighted avg       0.76      0.76      0.76       154\n",
      "\n",
      "\n",
      "Confusion Matrix:\n",
      " [[83 16]\n",
      " [21 34]]\n"
     ]
    }
   ],
   "source": [
    "#Evaluate the model\n",
    "\n",
    "from sklearn.metrics import accuracy_score, classification_report, confusion_matrix\n",
    "\n",
    "# Accuracy score\n",
    "print(\"Accuracy:\", accuracy_score(y_test, y_pred))\n",
    "\n",
    "# Classification report\n",
    "print(\"\\nClassification Report:\\n\", classification_report(y_test, y_pred))\n",
    "\n",
    "# Confusion matrix\n",
    "print(\"\\nConfusion Matrix:\\n\", confusion_matrix(y_test, y_pred))\n"
   ]
  },
  {
   "cell_type": "code",
   "execution_count": null,
   "id": "d2068ce6",
   "metadata": {},
   "outputs": [
    {
     "data": {
      "image/png": "[encoded data removed]",
      "text/plain": [
       "<Figure size 800x600 with 1 Axes>"
      ]
     },
     "metadata": {},
     "output_type": "display_data"
    }
   ],
   "source": [
    "#Visualize the Decision Tree\n",
    "\n",
    "from sklearn import tree\n",
    "import matplotlib.pyplot as plt\n",
    "\n",
    "plt.figure(figsize=(8,6))\n",
    "tree.plot_tree(clf,\n",
    "               feature_names=['Glucose', 'BMI'],\n",
    "               class_names=['No Diabetes', 'Diabetes'],\n",
    "               filled=True)\n",
    "plt.show()\n"
   ]
  },
  {
   "cell_type": "code",
   "execution_count": 31,
   "id": "fae13329",
   "metadata": {},
   "outputs": [
    {
     "name": "stdout",
     "output_type": "stream",
     "text": [
      "Balanced Accuracy: 0.7282828282828282\n"
     ]
    }
   ],
   "source": [
    "from sklearn.metrics import balanced_accuracy_score\n",
    "print(\"Balanced Accuracy:\", balanced_accuracy_score(y_test, y_pred))\n"
   ]
  },
  {
   "cell_type": "code",
   "execution_count": null,
   "id": "be473fb8",
   "metadata": {},
   "outputs": [],
   "source": []
  }
 ],
 "metadata": {
  "kernelspec": {
   "display_name": "Python 3",
   "language": "python",
   "name": "python3"
  },
  "language_info": {
   "codemirror_mode": {
    "name": "ipython",
    "version": 3
   },
   "file_extension": ".py",
   "mimetype": "text/x-python",
   "name": "python",
   "nbconvert_exporter": "python",
   "pygments_lexer": "ipython3",
   "version": "3.13.3"
  }
 },
 "nbformat": 4,
 "nbformat_minor": 5
}
